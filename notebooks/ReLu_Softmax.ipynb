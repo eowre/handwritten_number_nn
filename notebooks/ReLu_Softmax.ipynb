{
 "cells": [
  {
   "cell_type": "markdown",
   "id": "bda1a7ba",
   "metadata": {},
   "source": [
    "## MNIST Neural Network\n",
    "#### Creating and Comparing nn models\n",
    "##\n",
    "\n",
    "##### Imports, Log and Model files, Handlers"
   ]
  },
  {
   "cell_type": "code",
   "execution_count": 1,
   "id": "85d8b25f",
   "metadata": {},
   "outputs": [
    {
     "name": "stdout",
     "output_type": "stream",
     "text": [
      "Log files: ['model_784_10_softmax.log', 'model_784_128_64_10_relu_relu_softmax.log', 'model_784_256_128_64_10_relu_relu_relu_softmax.log', 'model_784_64_10_relu_softmax.log', 'model_784_784_16_16_10_relu_relu_relu_softmax.log']\n",
      "Model files: ['model_784_10_softmax.pkl', 'model_784_128_64_10_relu_relu_softmax.pkl', 'model_784_256_128_64_10_relu_relu_relu_softmax.pkl', 'model_784_64_10_relu_softmax.pkl', 'model_784_784_16_16_10_relu_relu_relu_softmax.pkl']\n"
     ]
    }
   ],
   "source": [
    "import os\n",
    "import sys\n",
    "import pandas as pd\n",
    "import numpy as np\n",
    "\n",
    "root_dir = os.path.abspath('..')\n",
    "subdirts = ['logs', 'trained_models', 'source']\n",
    "\n",
    "for subdir in subdirts:\n",
    "    full_path = os.path.join(root_dir, subdir)\n",
    "    if os.path.isdir(full_path) and full_path not in sys.path:\n",
    "        sys.path.append(full_path)\n",
    "\n",
    "from network import Network\n",
    "from logHandler import LogHandler\n",
    "\n",
    "log_files = sorted(f for f in os.listdir(os.path.join(root_dir, 'logs')) if f.endswith('.log'))\n",
    "model_files = sorted(f for f in os.listdir(os.path.join(root_dir, 'trained_models')) if f.endswith('.pkl'))\n",
    "\n",
    "log_handler = LogHandler()\n",
    "\n",
    "print(\"Log files:\", log_files)\n",
    "print(\"Model files:\", model_files)"
   ]
  },
  {
   "cell_type": "markdown",
   "id": "01328bd8",
   "metadata": {},
   "source": [
    "##### Building data frame from log file"
   ]
  },
  {
   "cell_type": "code",
   "execution_count": null,
   "id": "7c83abbc",
   "metadata": {},
   "outputs": [
    {
     "name": "stdout",
     "output_type": "stream",
     "text": [
      "Network loaded from /home/eowre/Documents/Projects/Python/handwritten_number_nn/handwritten_number_nn/trained_models/model_784_10_softmax.pkl\n",
      "Processing log file: model_784_10_softmax.log with model: 784(softmax) → 10()\n",
      "Network loaded from /home/eowre/Documents/Projects/Python/handwritten_number_nn/handwritten_number_nn/trained_models/model_784_128_64_10_relu_relu_softmax.pkl\n",
      "Processing log file: model_784_128_64_10_relu_relu_softmax.log with model: 784(relu) → 128(relu) → 64(softmax) → 10()\n",
      "Network loaded from /home/eowre/Documents/Projects/Python/handwritten_number_nn/handwritten_number_nn/trained_models/model_784_256_128_64_10_relu_relu_relu_softmax.pkl\n",
      "Processing log file: model_784_256_128_64_10_relu_relu_relu_softmax.log with model: 784(relu) → 256(relu) → 128(relu) → 64(softmax) → 10()\n",
      "Network loaded from /home/eowre/Documents/Projects/Python/handwritten_number_nn/handwritten_number_nn/trained_models/model_784_64_10_relu_softmax.pkl\n",
      "Processing log file: model_784_64_10_relu_softmax.log with model: 784(relu) → 64(softmax) → 10()\n",
      "Network loaded from /home/eowre/Documents/Projects/Python/handwritten_number_nn/handwritten_number_nn/trained_models/model_784_784_16_16_10_relu_relu_relu_softmax.pkl\n",
      "Processing log file: model_784_784_16_16_10_relu_relu_relu_softmax.log with model: 784(relu) → 784(relu) → 16(relu) → 16(softmax) → 10()\n"
     ]
    }
   ],
   "source": [
    "dataFrames = {}\n",
    "models = {}\n",
    "model_names = set()\n",
    "for log_file in log_files:\n",
    "    model_name = log_handler.extract_activations(log_file)\n",
    "    model_path = log_file.replace('.log', '.pkl')\n",
    "    model_path = os.path.join(root_dir, 'trained_models', model_path)\n",
    "\n",
    "    log_path = os.path.join(root_dir, 'logs', log_file)\n",
    "\n",
    "    models[model_name] = Network.load(model_path)\n",
    "    dataFrames[model_name] = log_handler.parse(log_path)\n",
    "    model_names.add(model_name)\n",
    "    print(f\"Processing log file: {log_file} with model: {model_name}\")"
   ]
  },
  {
   "cell_type": "markdown",
   "id": "d338ceb2",
   "metadata": {},
   "source": [
    "##### Analyzing the training runs for each model"
   ]
  },
  {
   "cell_type": "code",
   "execution_count": null,
   "id": "ec226229",
   "metadata": {},
   "outputs": [],
   "source": [
    "for model_name in model_names:\n",
    "    print(f\"Model: {model_name}\")\n",
    "    df = dataFrames[model_name]\n",
    "    if df.empty:\n",
    "        print(\"No data available for this model.\")\n",
    "        continue\n",
    "    print(f\"DataFrame for {model_name}:\\n{df.head()}\")"
   ]
  }
 ],
 "metadata": {
  "kernelspec": {
   "display_name": "venv",
   "language": "python",
   "name": "python3"
  },
  "language_info": {
   "codemirror_mode": {
    "name": "ipython",
    "version": 3
   },
   "file_extension": ".py",
   "mimetype": "text/x-python",
   "name": "python",
   "nbconvert_exporter": "python",
   "pygments_lexer": "ipython3",
   "version": "3.12.3"
  }
 },
 "nbformat": 4,
 "nbformat_minor": 5
}
